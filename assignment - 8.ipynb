{
 "cells": [
  {
   "cell_type": "markdown",
   "id": "dea318db-8e5e-4424-b94b-ca9ec50307bb",
   "metadata": {},
   "source": [
    " 1.Ans:\n",
    "\n",
    "An exception is an event, which occurs during the execution of a program that disrupts the normal flow of the program's instructions.When the programe are executed and error is happen the this exception is handle this situation.\n",
    "\n",
    "Different between exception and syntax error:\n",
    "Errors mostly happen at compile-time like syntax error; however it can happen at runtime as well.\n",
    "Whereas an Exception occurs at runtime."
   ]
  },
  {
   "cell_type": "markdown",
   "id": "4f0e7ed6-65ec-4c40-af6c-54efd44a1ad9",
   "metadata": {},
   "source": [
    "2.Ans:\n",
    "If an appropriate exception handler is not found, the operating system generates a fatal exception message, which means that the program must close and perhaps the system must shut down as well."
   ]
  },
  {
   "cell_type": "code",
   "execution_count": 8,
   "id": "1ddacdca-918f-4e0d-a011-d3a182b4ea27",
   "metadata": {},
   "outputs": [
    {
     "ename": "FileNotFoundError",
     "evalue": "[Errno 2] No such file or directory: 'file.txt'",
     "output_type": "error",
     "traceback": [
      "\u001b[0;31m---------------------------------------------------------------------------\u001b[0m",
      "\u001b[0;31mFileNotFoundError\u001b[0m                         Traceback (most recent call last)",
      "Cell \u001b[0;32mIn[8], line 2\u001b[0m\n\u001b[1;32m      1\u001b[0m \u001b[38;5;66;03m##Example\u001b[39;00m\n\u001b[0;32m----> 2\u001b[0m f \u001b[38;5;241m=\u001b[39m \u001b[38;5;28;43mopen\u001b[39;49m\u001b[43m(\u001b[49m\u001b[38;5;124;43m\"\u001b[39;49m\u001b[38;5;124;43mfile.txt\u001b[39;49m\u001b[38;5;124;43m\"\u001b[39;49m\u001b[43m,\u001b[49m\u001b[38;5;124;43m\"\u001b[39;49m\u001b[38;5;124;43mr\u001b[39;49m\u001b[38;5;124;43m\"\u001b[39;49m\u001b[43m)\u001b[49m\n\u001b[1;32m      3\u001b[0m \u001b[38;5;28mprint\u001b[39m(\u001b[38;5;124m\"\u001b[39m\u001b[38;5;124mthis is my file\u001b[39m\u001b[38;5;124m\"\u001b[39m)\n",
      "File \u001b[0;32m/opt/conda/lib/python3.10/site-packages/IPython/core/interactiveshell.py:282\u001b[0m, in \u001b[0;36m_modified_open\u001b[0;34m(file, *args, **kwargs)\u001b[0m\n\u001b[1;32m    275\u001b[0m \u001b[38;5;28;01mif\u001b[39;00m file \u001b[38;5;129;01min\u001b[39;00m {\u001b[38;5;241m0\u001b[39m, \u001b[38;5;241m1\u001b[39m, \u001b[38;5;241m2\u001b[39m}:\n\u001b[1;32m    276\u001b[0m     \u001b[38;5;28;01mraise\u001b[39;00m \u001b[38;5;167;01mValueError\u001b[39;00m(\n\u001b[1;32m    277\u001b[0m         \u001b[38;5;124mf\u001b[39m\u001b[38;5;124m\"\u001b[39m\u001b[38;5;124mIPython won\u001b[39m\u001b[38;5;124m'\u001b[39m\u001b[38;5;124mt let you open fd=\u001b[39m\u001b[38;5;132;01m{\u001b[39;00mfile\u001b[38;5;132;01m}\u001b[39;00m\u001b[38;5;124m by default \u001b[39m\u001b[38;5;124m\"\u001b[39m\n\u001b[1;32m    278\u001b[0m         \u001b[38;5;124m\"\u001b[39m\u001b[38;5;124mas it is likely to crash IPython. If you know what you are doing, \u001b[39m\u001b[38;5;124m\"\u001b[39m\n\u001b[1;32m    279\u001b[0m         \u001b[38;5;124m\"\u001b[39m\u001b[38;5;124myou can use builtins\u001b[39m\u001b[38;5;124m'\u001b[39m\u001b[38;5;124m open.\u001b[39m\u001b[38;5;124m\"\u001b[39m\n\u001b[1;32m    280\u001b[0m     )\n\u001b[0;32m--> 282\u001b[0m \u001b[38;5;28;01mreturn\u001b[39;00m \u001b[43mio_open\u001b[49m\u001b[43m(\u001b[49m\u001b[43mfile\u001b[49m\u001b[43m,\u001b[49m\u001b[43m \u001b[49m\u001b[38;5;241;43m*\u001b[39;49m\u001b[43margs\u001b[49m\u001b[43m,\u001b[49m\u001b[43m \u001b[49m\u001b[38;5;241;43m*\u001b[39;49m\u001b[38;5;241;43m*\u001b[39;49m\u001b[43mkwargs\u001b[49m\u001b[43m)\u001b[49m\n",
      "\u001b[0;31mFileNotFoundError\u001b[0m: [Errno 2] No such file or directory: 'file.txt'"
     ]
    }
   ],
   "source": [
    "##Example\n",
    "f = open(\"file.txt\",\"r\")\n",
    "print(\"this is my file\")"
   ]
  },
  {
   "cell_type": "markdown",
   "id": "5210bc66-25c0-446d-84f3-794cb5a8f661",
   "metadata": {},
   "source": [
    "3.Ans.\n",
    "The try and except block in Python is used to catch and handle exceptions"
   ]
  },
  {
   "cell_type": "code",
   "execution_count": 3,
   "id": "18a4d25c-fac7-48fb-a474-436431e1eceb",
   "metadata": {},
   "outputs": [
    {
     "name": "stdout",
     "output_type": "stream",
     "text": [
      "this is my file\n"
     ]
    }
   ],
   "source": [
    "## Example\n",
    "try :\n",
    "    f = open(\"file.txt\",\"r\")\n",
    "except Exception as e :\n",
    "    print(\"this is my file\")"
   ]
  },
  {
   "cell_type": "code",
   "execution_count": 4,
   "id": "4b0c4eee-c144-4adc-a6e5-d928c4e5c906",
   "metadata": {},
   "outputs": [
    {
     "name": "stdout",
     "output_type": "stream",
     "text": [
      "this is my else\n"
     ]
    }
   ],
   "source": [
    "##4.Ans. Example \n",
    "#a.try and else\n",
    "\n",
    "try :\n",
    "    f = open(\"file.txt1\",\"w\")\n",
    "    f.write(\"write into my file\")\n",
    "except Exception as e :\n",
    "    print(\"this is my exception handeling\")\n",
    "else :\n",
    "    f.close()\n",
    "    print(\"this is my else\")"
   ]
  },
  {
   "cell_type": "code",
   "execution_count": 5,
   "id": "1e55b96f-0513-4695-91e9-2654d3f75730",
   "metadata": {},
   "outputs": [
    {
     "name": "stdout",
     "output_type": "stream",
     "text": [
      "this is my finally print\n"
     ]
    }
   ],
   "source": [
    "#b.finally \n",
    "try :\n",
    "    f = open(\"file.txt1\",\"w\")\n",
    "    f.write(\"write into my file\")\n",
    "finally :\n",
    "    print(\"this is my finally print\")\n",
    "    "
   ]
  },
  {
   "cell_type": "code",
   "execution_count": 2,
   "id": "78ac0f4b-2696-4e4c-b7c1-41d96f2669ef",
   "metadata": {},
   "outputs": [
    {
     "name": "stdin",
     "output_type": "stream",
     "text": [
      "enter your age -9\n"
     ]
    }
   ],
   "source": [
    "#c.raise\n",
    "age = int(input(\"enter your age\"))"
   ]
  },
  {
   "cell_type": "code",
   "execution_count": 3,
   "id": "7e2c9558-84ca-4f11-95b9-e3b6a5010437",
   "metadata": {},
   "outputs": [],
   "source": [
    "class validate_age(Exception):\n",
    "    \n",
    "    def __init__(self,msg):\n",
    "        self.msg = msg"
   ]
  },
  {
   "cell_type": "code",
   "execution_count": 4,
   "id": "b2a5fae3-ef1e-4dc4-a344-d36e250f6eb4",
   "metadata": {},
   "outputs": [],
   "source": [
    "def age_validation(age):\n",
    "    if age < 0 :\n",
    "        raise validate_age(\"entered age is negetive\")\n",
    "    elif age > 100 :\n",
    "        raise validate_age(\"entered age is very very high\")\n",
    "    else :\n",
    "        print(\"age is valid\")  "
   ]
  },
  {
   "cell_type": "code",
   "execution_count": 5,
   "id": "c14f282b-8b42-43b1-9413-ab1e3d6ff656",
   "metadata": {},
   "outputs": [
    {
     "name": "stdin",
     "output_type": "stream",
     "text": [
      "enter your age 23\n"
     ]
    },
    {
     "name": "stdout",
     "output_type": "stream",
     "text": [
      "age is valid\n"
     ]
    }
   ],
   "source": [
    "try :\n",
    "    age = int(input(\"enter your age\"))\n",
    "    age_validation(age)\n",
    "except validate_age as e :\n",
    "    print(e)"
   ]
  },
  {
   "cell_type": "markdown",
   "id": "2c65cc9e-064f-4fb6-baba-4a916cea3731",
   "metadata": {},
   "source": [
    "##5.Ans\n",
    "A Python custom exception is a user-defined exception that is created by the programmer to handle specific error scenarios in a program.\n",
    "\n",
    "Built-in exceptions offer information about Python-related problems, and custom exceptions will add information about project-related problems."
   ]
  },
  {
   "cell_type": "code",
   "execution_count": 8,
   "id": "8c89944e-f9f0-4787-babf-400918e03166",
   "metadata": {},
   "outputs": [
    {
     "name": "stdin",
     "output_type": "stream",
     "text": [
      "enter your age 14\n"
     ]
    }
   ],
   "source": [
    "age = int(input(\"enter your age\"))"
   ]
  },
  {
   "cell_type": "code",
   "execution_count": 9,
   "id": "8704d425-0993-4d0f-ae26-be96a52f95d9",
   "metadata": {},
   "outputs": [],
   "source": [
    "class admission(Exception):\n",
    "    \n",
    "    def __init__(self,msg):\n",
    "        self.msg = msg"
   ]
  },
  {
   "cell_type": "code",
   "execution_count": 10,
   "id": "c7d04bee-8e53-4603-bb21-7e2441a50288",
   "metadata": {},
   "outputs": [],
   "source": [
    "def student_admis(age):\n",
    "    if age < 15 :\n",
    "        raise admission(\"you are not entered to the class\")\n",
    "    elif age > 15 :\n",
    "        raise admission(\"you are entered to the class \")\n",
    "    else:\n",
    "        print(\"your are out\")"
   ]
  },
  {
   "cell_type": "code",
   "execution_count": 12,
   "id": "65629564-cb7b-4ef1-9f71-1bcea1c19752",
   "metadata": {},
   "outputs": [
    {
     "name": "stdin",
     "output_type": "stream",
     "text": [
      "enter your age 16\n"
     ]
    },
    {
     "name": "stdout",
     "output_type": "stream",
     "text": [
      "you are entered to the class \n"
     ]
    }
   ],
   "source": [
    "try :\n",
    "    age = int(input(\"enter your age\"))\n",
    "    student_admis(age)\n",
    "except admission as e:\n",
    "    print(e)"
   ]
  },
  {
   "cell_type": "code",
   "execution_count": 13,
   "id": "334b172c-c4bb-4215-af5d-9be5846533f6",
   "metadata": {},
   "outputs": [
    {
     "name": "stdin",
     "output_type": "stream",
     "text": [
      "enter price 3500\n"
     ]
    }
   ],
   "source": [
    "##6.ans.\n",
    "price = int(input(\"enter price\"))"
   ]
  },
  {
   "cell_type": "code",
   "execution_count": 14,
   "id": "24f86c67-1440-490e-b3ef-5d8726e35cd9",
   "metadata": {},
   "outputs": [],
   "source": [
    "class course(Exception):\n",
    "    def __init__(self,msg):\n",
    "        self.msg = msg"
   ]
  },
  {
   "cell_type": "code",
   "execution_count": 15,
   "id": "94c3af4e-991d-41ab-9ed2-29daf2930088",
   "metadata": {},
   "outputs": [],
   "source": [
    "def course_details(price):\n",
    "    if price == 3000:\n",
    "        print(\"you are enter in data science course\")\n",
    "    elif price == 3500 :\n",
    "        print(\"you are enter in dsa class \")\n",
    "    else :\n",
    "        print(\"you enter wrong amount\")"
   ]
  },
  {
   "cell_type": "code",
   "execution_count": 20,
   "id": "5373a16c-ad5e-48a0-8241-fb63e109a4db",
   "metadata": {},
   "outputs": [
    {
     "name": "stdin",
     "output_type": "stream",
     "text": [
      "enter price 3000\n"
     ]
    },
    {
     "name": "stdout",
     "output_type": "stream",
     "text": [
      "you are enter in data science course\n"
     ]
    }
   ],
   "source": [
    "try :\n",
    "    price = int(input(\"enter price\"))\n",
    "    course_details(price)\n",
    "except course as e :\n",
    "    print(e)"
   ]
  },
  {
   "cell_type": "code",
   "execution_count": null,
   "id": "f7bfbfe6-4d23-4fe2-a574-b91dbd738c0f",
   "metadata": {},
   "outputs": [],
   "source": []
  }
 ],
 "metadata": {
  "kernelspec": {
   "display_name": "Python 3 (ipykernel)",
   "language": "python",
   "name": "python3"
  },
  "language_info": {
   "codemirror_mode": {
    "name": "ipython",
    "version": 3
   },
   "file_extension": ".py",
   "mimetype": "text/x-python",
   "name": "python",
   "nbconvert_exporter": "python",
   "pygments_lexer": "ipython3",
   "version": "3.10.8"
  }
 },
 "nbformat": 4,
 "nbformat_minor": 5
}
